{
  "nbformat": 4,
  "nbformat_minor": 0,
  "metadata": {
    "colab": {
      "provenance": [],
      "toc_visible": true,
      "authorship_tag": "ABX9TyOPR+KCSg781N/17JshwkDu",
      "include_colab_link": true
    },
    "kernelspec": {
      "name": "python3",
      "display_name": "Python 3"
    },
    "language_info": {
      "name": "python"
    }
  },
  "cells": [
    {
      "cell_type": "markdown",
      "metadata": {
        "id": "view-in-github",
        "colab_type": "text"
      },
      "source": [
        "<a href=\"https://colab.research.google.com/github/farhadrahimiinfo/Machine_Learning/blob/main/Split_Your_Dataset_With_scikit_learn.ipynb\" target=\"_parent\"><img src=\"https://colab.research.google.com/assets/colab-badge.svg\" alt=\"Open In Colab\"/></a>"
      ]
    },
    {
      "cell_type": "code",
      "source": [
        "#One of the key aspects of supervised machine learning is model evaluation and validation.\n",
        "#When you evaluate the predictive performance of your model,\n",
        "# it’s essential that the process be unbiased. Using train_test_split() from the data science library scikit-learn,\n",
        "# you can split your dataset into subsets that minimize the potential for bias in your evaluation and validation process.\n",
        "import numpy as np\n"
      ],
      "metadata": {
        "id": "fWpXRXj3yvJC"
      },
      "execution_count": null,
      "outputs": []
    },
    {
      "cell_type": "code",
      "source": [
        "from sklearn.model_selection import train_test_split"
      ],
      "metadata": {
        "id": "5xE59UEey2wg"
      },
      "execution_count": null,
      "outputs": []
    },
    {
      "cell_type": "code",
      "source": [
        "MyData = np.arange(1, 25).reshape(12, 2)\n",
        "MyData"
      ],
      "metadata": {
        "colab": {
          "base_uri": "https://localhost:8080/"
        },
        "id": "EZPA9SB_y6WP",
        "outputId": "a5b629a0-cf4e-4cd4-9935-6280eb108391"
      },
      "execution_count": null,
      "outputs": [
        {
          "output_type": "execute_result",
          "data": {
            "text/plain": [
              "array([[ 1,  2],\n",
              "       [ 3,  4],\n",
              "       [ 5,  6],\n",
              "       [ 7,  8],\n",
              "       [ 9, 10],\n",
              "       [11, 12],\n",
              "       [13, 14],\n",
              "       [15, 16],\n",
              "       [17, 18],\n",
              "       [19, 20],\n",
              "       [21, 22],\n",
              "       [23, 24]])"
            ]
          },
          "metadata": {},
          "execution_count": 4
        }
      ]
    },
    {
      "cell_type": "code",
      "source": [
        "MyData_sample = np.array([0, 1, 1, 0, 1, 0, 0, 1, 1, 0, 1, 0])\n",
        "MyData_sample"
      ],
      "metadata": {
        "colab": {
          "base_uri": "https://localhost:8080/"
        },
        "id": "kh3CaqmpzV2z",
        "outputId": "67e8777c-7917-4c3d-b11c-f11652a7d6e3"
      },
      "execution_count": null,
      "outputs": [
        {
          "output_type": "execute_result",
          "data": {
            "text/plain": [
              "array([0, 1, 1, 0, 1, 0, 0, 1, 1, 0, 1, 0])"
            ]
          },
          "metadata": {},
          "execution_count": 5
        }
      ]
    },
    {
      "cell_type": "code",
      "source": [
        "#The samples of the dataset are shuffled randomly and then split into the training and test sets according to the size you defined.\n",
        "#Data_train: The training part of the first sequence (x)\n",
        "#Data_test: The test part of the first sequence (x)\n",
        "#MyData_sample_train: The training part of the second sequence (y)\n",
        "#MyData_sample_test: The test part of the second sequence (y)\n",
        "Data_train, Data_test, Data_sample_train, Data_sample_test = train_test_split(MyData, MyData_sample);\n"
      ],
      "metadata": {
        "id": "kuBQOn1Vz7ps"
      },
      "execution_count": null,
      "outputs": []
    },
    {
      "cell_type": "code",
      "source": [
        "Data_train"
      ],
      "metadata": {
        "colab": {
          "base_uri": "https://localhost:8080/"
        },
        "id": "483d2o0xz_cV",
        "outputId": "24405a52-341c-4388-e7ed-5ba139e507ca"
      },
      "execution_count": null,
      "outputs": [
        {
          "output_type": "execute_result",
          "data": {
            "text/plain": [
              "array([[ 3,  4],\n",
              "       [ 9, 10],\n",
              "       [ 7,  8],\n",
              "       [19, 20],\n",
              "       [15, 16],\n",
              "       [13, 14],\n",
              "       [ 5,  6],\n",
              "       [17, 18],\n",
              "       [23, 24]])"
            ]
          },
          "metadata": {},
          "execution_count": 17
        }
      ]
    },
    {
      "cell_type": "code",
      "source": [
        "Data_test"
      ],
      "metadata": {
        "colab": {
          "base_uri": "https://localhost:8080/"
        },
        "id": "6lyEbqqg0C_y",
        "outputId": "97ef9c47-c692-4fed-9877-474e1a6eac16"
      },
      "execution_count": null,
      "outputs": [
        {
          "output_type": "execute_result",
          "data": {
            "text/plain": [
              "array([[ 1,  2],\n",
              "       [21, 22],\n",
              "       [11, 12]])"
            ]
          },
          "metadata": {},
          "execution_count": 18
        }
      ]
    },
    {
      "cell_type": "code",
      "source": [
        "Data_sample_train"
      ],
      "metadata": {
        "colab": {
          "base_uri": "https://localhost:8080/"
        },
        "id": "CF2BaTuW0GQv",
        "outputId": "f31f2c46-1c45-49c8-8d9e-08e9b1c6043a"
      },
      "execution_count": null,
      "outputs": [
        {
          "output_type": "execute_result",
          "data": {
            "text/plain": [
              "array([1, 1, 0, 0, 1, 0, 1, 1, 0])"
            ]
          },
          "metadata": {},
          "execution_count": 19
        }
      ]
    },
    {
      "cell_type": "code",
      "source": [
        "Data_sample_test"
      ],
      "metadata": {
        "colab": {
          "base_uri": "https://localhost:8080/"
        },
        "id": "BXFVKQNh0Ios",
        "outputId": "7a7d6b68-7832-4b47-ce62-d94a7f3542bb"
      },
      "execution_count": null,
      "outputs": [
        {
          "output_type": "execute_result",
          "data": {
            "text/plain": [
              "array([0, 1, 0])"
            ]
          },
          "metadata": {},
          "execution_count": 20
        }
      ]
    },
    {
      "cell_type": "code",
      "source": [
        "#You can see that y has six zeros and six ones. However, the test set has three zeros out of four items.\n",
        "#If you want to (approximately) keep the proportion of y values through the training and test sets, then pass stratify=y.\n",
        "# This will enable stratified splitting:\n",
        "Data_train, Data_test, Data_sample_train, Data_sample_test = train_test_split(\n",
        "     MyData, MyData_sample, test_size=0.33, random_state=4, stratify=MyData_sample\n",
        " )\n",
        "\n",
        "#Now y_train and y_test have the same ratio of zeros and ones as the original y array.\n",
        "\n"
      ],
      "metadata": {
        "id": "wraDFkWc35Ay"
      },
      "execution_count": null,
      "outputs": []
    },
    {
      "cell_type": "code",
      "source": [
        "Data_train"
      ],
      "metadata": {
        "colab": {
          "base_uri": "https://localhost:8080/"
        },
        "id": "63l7x7sK4B5H",
        "outputId": "e6905ee9-a3fe-4100-d765-8be60ca6bed9"
      },
      "execution_count": null,
      "outputs": [
        {
          "output_type": "execute_result",
          "data": {
            "text/plain": [
              "array([[21, 22],\n",
              "       [ 1,  2],\n",
              "       [15, 16],\n",
              "       [13, 14],\n",
              "       [17, 18],\n",
              "       [19, 20],\n",
              "       [23, 24],\n",
              "       [ 3,  4]])"
            ]
          },
          "metadata": {},
          "execution_count": 22
        }
      ]
    },
    {
      "cell_type": "code",
      "source": [
        "Data_test"
      ],
      "metadata": {
        "id": "zf0XNWsW4DFd",
        "colab": {
          "base_uri": "https://localhost:8080/"
        },
        "outputId": "b26f96e8-17b8-4b6c-980a-c818081f239e"
      },
      "execution_count": null,
      "outputs": [
        {
          "output_type": "execute_result",
          "data": {
            "text/plain": [
              "array([[11, 12],\n",
              "       [ 7,  8],\n",
              "       [ 5,  6],\n",
              "       [ 9, 10]])"
            ]
          },
          "metadata": {},
          "execution_count": 23
        }
      ]
    },
    {
      "cell_type": "code",
      "source": [
        "Data_sample_train"
      ],
      "metadata": {
        "id": "OalQwDzO4Fyn",
        "colab": {
          "base_uri": "https://localhost:8080/"
        },
        "outputId": "3bc991e9-121f-443e-ac73-7382a7f2e361"
      },
      "execution_count": null,
      "outputs": [
        {
          "output_type": "execute_result",
          "data": {
            "text/plain": [
              "array([1, 0, 1, 0, 1, 0, 0, 1])"
            ]
          },
          "metadata": {},
          "execution_count": 24
        }
      ]
    },
    {
      "cell_type": "code",
      "source": [
        "Data_sample_test"
      ],
      "metadata": {
        "id": "maO0jq0E4D_e",
        "colab": {
          "base_uri": "https://localhost:8080/"
        },
        "outputId": "da735723-dcd6-489e-e218-b51a46be6219"
      },
      "execution_count": null,
      "outputs": [
        {
          "output_type": "execute_result",
          "data": {
            "text/plain": [
              "array([0, 0, 1, 1])"
            ]
          },
          "metadata": {},
          "execution_count": 25
        }
      ]
    },
    {
      "cell_type": "code",
      "source": [
        "#Stratified splits are desirable in some cases, like when you’re classifying an imbalanced dataset, a dataset with a significant difference in the number of samples that belong to distinct classes.\n",
        "\n",
        "#Finally, you can turn off data shuffling and random split with shuffle=False:"
      ],
      "metadata": {
        "id": "NTcSMel65gw_"
      },
      "execution_count": null,
      "outputs": []
    },
    {
      "cell_type": "code",
      "source": [
        "Data_train, Data_test, Data_sample_train, Data_sample_test = train_test_split(\n",
        "     MyData, MyData_sample, test_size=0.33, shuffle=False\n",
        " )\n",
        "#Now you have a split in which the first two-thirds of samples in the original x and y arrays are assigned to the training set and the last third to the test set. No shuffling. No randomness.\n",
        "\n"
      ],
      "metadata": {
        "id": "-5y4oibL5jH-"
      },
      "execution_count": null,
      "outputs": []
    },
    {
      "cell_type": "code",
      "source": [
        "#Supervised Machine Learning With train_test_split()\n",
        "#Minimalist Example of Linear Regression\n",
        "#In this example, you’ll apply what you’ve learned so far to solve a small regression problem.\n",
        "#You’ll learn how to create datasets, split them into training and test subsets, and use them for linear regression.\n",
        "\n",
        "import numpy as np\n",
        "from sklearn.linear_model import LinearRegression\n",
        "from sklearn.model_selection import train_test_split\n"
      ],
      "metadata": {
        "id": "Dbw2lvhW54DL"
      },
      "execution_count": null,
      "outputs": []
    },
    {
      "cell_type": "code",
      "source": [
        "MyData = np.arange(20).reshape(-1, 1)\n",
        "MyData_sample = np.array([5, 12, 11, 19, 30, 29, 23, 40, 51, 54, 74,\n",
        "              62, 68, 73, 89, 84, 89, 101, 99, 106])"
      ],
      "metadata": {
        "id": "2_G_xEKdz_zx"
      },
      "execution_count": null,
      "outputs": []
    },
    {
      "cell_type": "code",
      "source": [
        "MyData"
      ],
      "metadata": {
        "colab": {
          "base_uri": "https://localhost:8080/"
        },
        "id": "N3Rmk0hM0D0p",
        "outputId": "00ab3645-87c4-46d4-a697-139e964620a1"
      },
      "execution_count": null,
      "outputs": [
        {
          "output_type": "execute_result",
          "data": {
            "text/plain": [
              "array([[ 0],\n",
              "       [ 1],\n",
              "       [ 2],\n",
              "       [ 3],\n",
              "       [ 4],\n",
              "       [ 5],\n",
              "       [ 6],\n",
              "       [ 7],\n",
              "       [ 8],\n",
              "       [ 9],\n",
              "       [10],\n",
              "       [11],\n",
              "       [12],\n",
              "       [13],\n",
              "       [14],\n",
              "       [15],\n",
              "       [16],\n",
              "       [17],\n",
              "       [18],\n",
              "       [19]])"
            ]
          },
          "metadata": {},
          "execution_count": 29
        }
      ]
    },
    {
      "cell_type": "code",
      "source": [
        "MyData_sample"
      ],
      "metadata": {
        "colab": {
          "base_uri": "https://localhost:8080/"
        },
        "id": "wTqgv8Eb0Rnr",
        "outputId": "c002d8bd-8ef8-4c2d-b357-4d125da82941"
      },
      "execution_count": null,
      "outputs": [
        {
          "output_type": "execute_result",
          "data": {
            "text/plain": [
              "array([  5,  12,  11,  19,  30,  29,  23,  40,  51,  54,  74,  62,  68,\n",
              "        73,  89,  84,  89, 101,  99, 106])"
            ]
          },
          "metadata": {},
          "execution_count": 30
        }
      ]
    },
    {
      "cell_type": "code",
      "source": [
        "#Your dataset has twenty observations, or x-y pairs.\n",
        "#You specify the argument test_size=8, so the dataset is divided into a training set with twelve observations and a test set with eight observations.\n",
        "Data_train, Data_test, Data_Sample_train, Data_Sample_test = train_test_split(MyData, MyData_sample, test_size=8, random_state=0)"
      ],
      "metadata": {
        "id": "QQVmngb10hlV"
      },
      "execution_count": null,
      "outputs": []
    },
    {
      "cell_type": "code",
      "source": [
        "Data_train"
      ],
      "metadata": {
        "colab": {
          "base_uri": "https://localhost:8080/"
        },
        "id": "50sM3snA0vlo",
        "outputId": "9d7ad359-eb7b-4c25-ce0b-db81a258ee17"
      },
      "execution_count": null,
      "outputs": [
        {
          "output_type": "execute_result",
          "data": {
            "text/plain": [
              "array([[ 4],\n",
              "       [ 2],\n",
              "       [ 5],\n",
              "       [14],\n",
              "       [ 9],\n",
              "       [ 7],\n",
              "       [16],\n",
              "       [11],\n",
              "       [ 3],\n",
              "       [ 0],\n",
              "       [15],\n",
              "       [12]])"
            ]
          },
          "metadata": {},
          "execution_count": 32
        }
      ]
    },
    {
      "cell_type": "code",
      "source": [
        "Data_test"
      ],
      "metadata": {
        "colab": {
          "base_uri": "https://localhost:8080/"
        },
        "id": "OryLHyLM0tGK",
        "outputId": "07032bcd-0cab-47b8-d32b-143fde4b8052"
      },
      "execution_count": null,
      "outputs": [
        {
          "output_type": "execute_result",
          "data": {
            "text/plain": [
              "array([[18],\n",
              "       [ 1],\n",
              "       [19],\n",
              "       [ 8],\n",
              "       [10],\n",
              "       [17],\n",
              "       [ 6],\n",
              "       [13]])"
            ]
          },
          "metadata": {},
          "execution_count": 33
        }
      ]
    },
    {
      "cell_type": "code",
      "source": [
        "Data_Sample_train"
      ],
      "metadata": {
        "colab": {
          "base_uri": "https://localhost:8080/"
        },
        "id": "1YPse_BA0yAz",
        "outputId": "8e93027d-de9e-4a56-860e-62518cb27150"
      },
      "execution_count": null,
      "outputs": [
        {
          "output_type": "execute_result",
          "data": {
            "text/plain": [
              "array([30, 11, 29, 89, 54, 40, 89, 62, 19,  5, 84, 68])"
            ]
          },
          "metadata": {},
          "execution_count": 34
        }
      ]
    },
    {
      "cell_type": "code",
      "source": [
        "Data_Sample_test"
      ],
      "metadata": {
        "colab": {
          "base_uri": "https://localhost:8080/"
        },
        "id": "gcpS1r2F00Yl",
        "outputId": "d5562ff4-9fac-49dc-83c1-db70845b5b47"
      },
      "execution_count": null,
      "outputs": [
        {
          "output_type": "execute_result",
          "data": {
            "text/plain": [
              "array([ 99,  12, 106,  51,  74, 101,  23,  73])"
            ]
          },
          "metadata": {},
          "execution_count": 35
        }
      ]
    },
    {
      "cell_type": "code",
      "source": [
        "#Now you can use the training set to fit the model:\n",
        "model = LinearRegression().fit(Data_train, Data_Sample_train)\n",
        "\n"
      ],
      "metadata": {
        "id": "GjMVosbm1ClU"
      },
      "execution_count": null,
      "outputs": []
    },
    {
      "cell_type": "code",
      "source": [
        "#LinearRegression creates the object that represents the model, while .fit() trains, or fits, the model and returns it.\n",
        "# With linear regression, fitting the model means determining the best intercept (model.intercept_) and slope (model.coef_) values of the regression line.\n",
        "\n"
      ],
      "metadata": {
        "id": "eMhiG7Tb1W05"
      },
      "execution_count": null,
      "outputs": []
    },
    {
      "cell_type": "code",
      "source": [
        "model.intercept_"
      ],
      "metadata": {
        "colab": {
          "base_uri": "https://localhost:8080/"
        },
        "id": "6mQo7dzm1QcZ",
        "outputId": "5961c6c4-4810-4814-d199-c40e65fd91e9"
      },
      "execution_count": null,
      "outputs": [
        {
          "output_type": "execute_result",
          "data": {
            "text/plain": [
              "3.1617195496417523"
            ]
          },
          "metadata": {},
          "execution_count": 38
        }
      ]
    },
    {
      "cell_type": "code",
      "source": [
        "model.coef_\n"
      ],
      "metadata": {
        "colab": {
          "base_uri": "https://localhost:8080/"
        },
        "id": "5NrPPg7R1SuK",
        "outputId": "2d26f097-c790-43bb-c20c-aa2fee8b9793"
      },
      "execution_count": null,
      "outputs": [
        {
          "output_type": "execute_result",
          "data": {
            "text/plain": [
              "array([5.53121801])"
            ]
          },
          "metadata": {},
          "execution_count": 39
        }
      ]
    },
    {
      "cell_type": "code",
      "source": [
        "#Although you can use x_train and y_train to check the goodness of fit, this isn’t a best practice.\n",
        "# An unbiased estimation of the predictive performance of your model is based on test data:\n",
        "model.score(Data_train, Data_Sample_train)\n"
      ],
      "metadata": {
        "colab": {
          "base_uri": "https://localhost:8080/"
        },
        "id": "423MBBx21iJc",
        "outputId": "4ba9d32f-6cb8-4fee-8772-9cf2dddf28e1"
      },
      "execution_count": null,
      "outputs": [
        {
          "output_type": "execute_result",
          "data": {
            "text/plain": [
              "0.9868175024574795"
            ]
          },
          "metadata": {},
          "execution_count": 40
        }
      ]
    },
    {
      "cell_type": "code",
      "source": [
        "model.score(Data_test, Data_Sample_test)"
      ],
      "metadata": {
        "colab": {
          "base_uri": "https://localhost:8080/"
        },
        "id": "9_Q1G3WW1nE2",
        "outputId": "ec1f3abd-5e23-45dd-adea-836ad5097532"
      },
      "execution_count": null,
      "outputs": [
        {
          "output_type": "execute_result",
          "data": {
            "text/plain": [
              "0.9465896927715023"
            ]
          },
          "metadata": {},
          "execution_count": 42
        }
      ]
    },
    {
      "cell_type": "code",
      "source": [
        "import numpy as np\n",
        "import sklearn.model_selection as ms\n",
        "\n",
        "import sklearn.datasets as dt\n",
        "IRIS=dt.load_iris()\n",
        "X = IRIS.data\n",
        "Y = IRIS.target\n"
      ],
      "metadata": {
        "id": "JCzErOXtY9zu"
      },
      "execution_count": null,
      "outputs": []
    },
    {
      "cell_type": "code",
      "source": [
        "trX, teX, trY, teY = ms.train_test_split(X, Y, train_size=0.7)"
      ],
      "metadata": {
        "id": "Tt-deceOanl8"
      },
      "execution_count": null,
      "outputs": []
    },
    {
      "cell_type": "code",
      "source": [
        "trX, teX, trY, teY = ms.train_test_split(X, Y, train_size=0.7, random_state=2)\n"
      ],
      "metadata": {
        "id": "PHap2ESibeO1"
      },
      "execution_count": null,
      "outputs": []
    },
    {
      "cell_type": "code",
      "source": [
        "print(f'{X.shape = } -- {Y.shape = }')\n",
        "print(f'{trX.shape = } -- {trY.shape = }')\n",
        "print(f'{teX.shape = } -- {teY.shape = }')\n"
      ],
      "metadata": {
        "colab": {
          "base_uri": "https://localhost:8080/"
        },
        "id": "h7I0FuPEbgW1",
        "outputId": "e419ed77-212f-4a8a-90c3-8e098513373b"
      },
      "execution_count": null,
      "outputs": [
        {
          "output_type": "stream",
          "name": "stdout",
          "text": [
            "X.shape = (150, 4) -- Y.shape = (150,)\n",
            "trX.shape = (105, 4) -- trY.shape = (105,)\n",
            "teX.shape = (45, 4) -- teY.shape = (45,)\n"
          ]
        }
      ]
    },
    {
      "cell_type": "code",
      "source": [
        "trX, X2, trY, Y2 = ms.train_test_split(X, Y, train_size=0.7, random_state=2)\n",
        "\n",
        "vaX, teX, vaY, teY = ms.train_test_split(X2, Y2, train_size=0.5, random_state=2)\n"
      ],
      "metadata": {
        "id": "0jHeoIw-bj7Y"
      },
      "execution_count": null,
      "outputs": []
    },
    {
      "cell_type": "code",
      "source": [
        "print(f'{X.shape = } -- {Y.shape = }')\n",
        "print(f'{trX.shape = } -- {trY.shape = }')\n",
        "print(f'{vaX.shape = } -- {vaY.shape = }')\n",
        "print(f'{teX.shape = } -- {teY.shape = }')\n"
      ],
      "metadata": {
        "colab": {
          "base_uri": "https://localhost:8080/"
        },
        "id": "mipkfs-zbnEz",
        "outputId": "97a20e14-ba3c-4bbc-97f3-3ba46c13669f"
      },
      "execution_count": null,
      "outputs": [
        {
          "output_type": "stream",
          "name": "stdout",
          "text": [
            "X.shape = (150, 4) -- Y.shape = (150,)\n",
            "trX.shape = (105, 4) -- trY.shape = (105,)\n",
            "vaX.shape = (22, 4) -- vaY.shape = (22,)\n",
            "teX.shape = (23, 4) -- teY.shape = (23,)\n"
          ]
        }
      ]
    }
  ]
}