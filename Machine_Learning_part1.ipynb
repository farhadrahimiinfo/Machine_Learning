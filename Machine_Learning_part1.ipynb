{
  "nbformat": 4,
  "nbformat_minor": 0,
  "metadata": {
    "colab": {
      "provenance": [],
      "toc_visible": true,
      "authorship_tag": "ABX9TyNrbIZ+wR9fJf8Tbl6qLIQj",
      "include_colab_link": true
    },
    "kernelspec": {
      "name": "python3",
      "display_name": "Python 3"
    },
    "language_info": {
      "name": "python"
    }
  },
  "cells": [
    {
      "cell_type": "markdown",
      "metadata": {
        "id": "view-in-github",
        "colab_type": "text"
      },
      "source": [
        "<a href=\"https://colab.research.google.com/github/farhadrahimiinfo/Machine_Learning/blob/main/Machine_Learning_part1.ipynb\" target=\"_parent\"><img src=\"https://colab.research.google.com/assets/colab-badge.svg\" alt=\"Open In Colab\"/></a>"
      ]
    },
    {
      "cell_type": "code",
      "source": [],
      "metadata": {
        "id": "u85lB-wfH4Yb"
      },
      "execution_count": null,
      "outputs": []
    },
    {
      "cell_type": "markdown",
      "source": [
        "#Machine Learning - Mean Median Mode"
      ],
      "metadata": {
        "id": "fVZXVgPlH56P"
      }
    },
    {
      "cell_type": "code",
      "source": [
        "import numpy\n",
        "\n",
        "speed = [99,86,87,88,111,86,103,87,94,78,77,85,86]\n",
        "\n",
        "x = numpy.mean(speed)\n",
        "\n",
        "print(x)"
      ],
      "metadata": {
        "colab": {
          "base_uri": "https://localhost:8080/"
        },
        "id": "8gEaqWskGNZr",
        "outputId": "0477174d-9e72-49e8-b5d6-2783d60f2040"
      },
      "execution_count": 2,
      "outputs": [
        {
          "output_type": "stream",
          "name": "stdout",
          "text": [
            "89.76923076923077\n"
          ]
        }
      ]
    },
    {
      "cell_type": "code",
      "source": [
        "import numpy\n",
        "\n",
        "speed = [99,86,87,88,111,86,103,87,94,78,77,85,86]\n",
        "\n",
        "x = numpy.median(speed)\n",
        "\n",
        "print(x)"
      ],
      "metadata": {
        "colab": {
          "base_uri": "https://localhost:8080/"
        },
        "id": "ZhrJ12M9GRDv",
        "outputId": "785b1029-0e8f-4925-a1cc-d9f4bebe5ee1"
      },
      "execution_count": 3,
      "outputs": [
        {
          "output_type": "stream",
          "name": "stdout",
          "text": [
            "87.0\n"
          ]
        }
      ]
    },
    {
      "cell_type": "code",
      "source": [
        "from scipy import stats\n",
        "\n",
        "speed = [99,86,87,88,111,86,103,87,94,78,77,85,86]\n",
        "\n",
        "x = stats.mode(speed)\n",
        "\n",
        "print(x)"
      ],
      "metadata": {
        "colab": {
          "base_uri": "https://localhost:8080/"
        },
        "id": "NpGebITzGaKD",
        "outputId": "48944147-0997-4545-c552-0e5aa4ebdb52"
      },
      "execution_count": 4,
      "outputs": [
        {
          "output_type": "stream",
          "name": "stdout",
          "text": [
            "ModeResult(mode=86, count=3)\n"
          ]
        }
      ]
    },
    {
      "cell_type": "markdown",
      "source": [
        "# Standard Deviation"
      ],
      "metadata": {
        "id": "wyiftMgKICC5"
      }
    },
    {
      "cell_type": "code",
      "source": [
        "\n",
        "import numpy\n",
        "\n",
        "speed = [86,87,88,86,87,85,86]\n",
        "\n",
        "x = numpy.std(speed)\n",
        "\n",
        "print(x)"
      ],
      "metadata": {
        "colab": {
          "base_uri": "https://localhost:8080/"
        },
        "id": "IMWZ48jOGgio",
        "outputId": "832ebbcb-e22b-4588-d80e-4ebb4a5dd1fd"
      },
      "execution_count": 5,
      "outputs": [
        {
          "output_type": "stream",
          "name": "stdout",
          "text": [
            "0.9035079029052513\n"
          ]
        }
      ]
    },
    {
      "cell_type": "code",
      "source": [
        "import numpy\n",
        "\n",
        "speed = [32,111,138,28,59,77,97]\n",
        "\n",
        "x = numpy.std(speed)\n",
        "\n",
        "print(x)"
      ],
      "metadata": {
        "colab": {
          "base_uri": "https://localhost:8080/"
        },
        "id": "vJcgHdqwGl8k",
        "outputId": "86384796-d72e-49fd-d93f-dc302e033910"
      },
      "execution_count": 6,
      "outputs": [
        {
          "output_type": "stream",
          "name": "stdout",
          "text": [
            "37.84501153334721\n"
          ]
        }
      ]
    },
    {
      "cell_type": "markdown",
      "source": [
        "# Variance"
      ],
      "metadata": {
        "id": "v6xaZjNaGqx5"
      }
    },
    {
      "cell_type": "code",
      "source": [
        "import numpy\n",
        "\n",
        "speed = [32,111,138,28,59,77,97]\n",
        "\n",
        "x = numpy.var(speed)\n",
        "\n",
        "print(x)"
      ],
      "metadata": {
        "colab": {
          "base_uri": "https://localhost:8080/"
        },
        "id": "EtvKR2qEGo9J",
        "outputId": "1ce3a649-0bee-412c-e11a-ae343713b6ac"
      },
      "execution_count": 7,
      "outputs": [
        {
          "output_type": "stream",
          "name": "stdout",
          "text": [
            "1432.2448979591834\n"
          ]
        }
      ]
    },
    {
      "cell_type": "code",
      "source": [
        "#Standard Deviation\n",
        "import numpy\n",
        "\n",
        "speed = [32,111,138,28,59,77,97]\n",
        "\n",
        "x = numpy.std(speed)\n",
        "\n",
        "print(x)"
      ],
      "metadata": {
        "colab": {
          "base_uri": "https://localhost:8080/"
        },
        "id": "K5Ojq8ZJG0Yq",
        "outputId": "3c56b13e-36f9-42f5-f621-df10f212a7c8"
      },
      "execution_count": 8,
      "outputs": [
        {
          "output_type": "stream",
          "name": "stdout",
          "text": [
            "37.84501153334721\n"
          ]
        }
      ]
    },
    {
      "cell_type": "markdown",
      "source": [
        "# Percentiles\n",
        "Percentiles are used in statistics to give you a number that describes the value that a given percent of the values are lower than.\n",
        "\n"
      ],
      "metadata": {
        "id": "7Jgaq_e9G9WJ"
      }
    },
    {
      "cell_type": "code",
      "source": [
        "import numpy\n",
        "\n",
        "ages = [5,31,43,48,50,41,7,11,15,39,80,82,32,2,8,6,25,36,27,61,31]\n",
        "\n",
        "x = numpy.percentile(ages, 75)\n",
        "\n",
        "print(x)"
      ],
      "metadata": {
        "colab": {
          "base_uri": "https://localhost:8080/"
        },
        "id": "Y2eVeju6HAlo",
        "outputId": "e54049cc-be15-47bb-8268-78eca66f7d9a"
      },
      "execution_count": 9,
      "outputs": [
        {
          "output_type": "stream",
          "name": "stdout",
          "text": [
            "43.0\n"
          ]
        }
      ]
    },
    {
      "cell_type": "code",
      "source": [
        "import numpy\n",
        "\n",
        "ages = [5,31,43,48,50,41,7,11,15,39,80,82,32,2,8,6,25,36,27,61,31]\n",
        "\n",
        "x = numpy.percentile(ages, 90)\n",
        "\n",
        "print(x)"
      ],
      "metadata": {
        "colab": {
          "base_uri": "https://localhost:8080/"
        },
        "id": "qh9xS8qbHEwU",
        "outputId": "7402157c-7563-48db-cb5f-af4c1005c976"
      },
      "execution_count": 10,
      "outputs": [
        {
          "output_type": "stream",
          "name": "stdout",
          "text": [
            "61.0\n"
          ]
        }
      ]
    },
    {
      "cell_type": "markdown",
      "source": [
        "# Data Distribution\n",
        "Earlier in this tutorial we have worked with very small amounts of data in our examples, just to understand the different concepts.\n",
        "\n",
        "In the real world, the data sets are much bigger, but it can be difficult to gather real world data, at least at an early stage of a project."
      ],
      "metadata": {
        "id": "oirDQyCDHKme"
      }
    },
    {
      "cell_type": "code",
      "source": [
        "#Create an array containing 250 random floats between 0 and 5:\n",
        "\n",
        "\n",
        "import numpy\n",
        "\n",
        "x = numpy.random.uniform(0.0, 5.0, 250)\n",
        "\n",
        "print(x)"
      ],
      "metadata": {
        "colab": {
          "base_uri": "https://localhost:8080/"
        },
        "id": "xYdt-v_fHPrT",
        "outputId": "27dd3325-b188-4ecb-d98c-f737ea8cee80"
      },
      "execution_count": 11,
      "outputs": [
        {
          "output_type": "stream",
          "name": "stdout",
          "text": [
            "[3.32043684 1.60364582 1.23176109 4.25757729 0.51399267 0.58331601\n",
            " 0.05992409 1.0598127  4.27746243 2.40074702 2.66763595 4.20021131\n",
            " 3.17719619 0.25274285 2.83235582 0.51612737 0.60153343 3.97400513\n",
            " 3.49949617 4.50059389 0.32275841 0.59567592 3.01178972 2.02602678\n",
            " 1.23742483 4.84207127 3.13509421 0.74963538 2.41339791 1.47303983\n",
            " 2.46055415 1.74687486 2.5015297  2.74723814 2.77956566 2.61325726\n",
            " 0.0764348  2.56247322 1.09281586 4.64171215 1.67829787 3.64437698\n",
            " 3.61616595 2.9846718  1.36579594 1.73936451 1.49616829 1.05807971\n",
            " 0.28239281 2.41398318 3.72640274 1.16303816 4.19879846 4.17692399\n",
            " 3.53476938 2.31698511 3.01953028 4.236046   3.69971067 2.24320714\n",
            " 4.99286528 4.71752987 1.89187209 1.26390357 1.70063487 0.73497678\n",
            " 3.61707901 2.13825553 3.26208723 0.65940103 2.49046009 4.92469409\n",
            " 1.85402333 2.15181641 0.19924514 2.0839496  1.2049745  0.09811039\n",
            " 1.00764684 3.23506485 2.32804245 0.79648821 0.99037984 3.96807357\n",
            " 2.34247712 2.7590061  4.20223797 3.19842623 3.7612935  4.83533112\n",
            " 3.83054324 0.57570511 1.02181346 0.22633383 1.31907403 3.50233406\n",
            " 0.86403761 3.67453504 4.07254689 0.12659313 3.97056927 4.21012076\n",
            " 2.65508703 1.68061865 3.54060742 1.91593071 2.47066794 4.22009748\n",
            " 4.50263516 3.73233522 1.82011829 1.53242319 4.83457084 1.32585026\n",
            " 0.22543334 4.67551821 3.65621736 1.77496577 0.05011804 1.55494867\n",
            " 4.53058312 3.14041707 3.78390137 3.64825855 1.97691275 2.59538384\n",
            " 1.21323598 1.94539703 3.25511146 1.36509717 2.87645997 2.18927866\n",
            " 1.51225666 0.55121105 4.77529288 1.47369207 2.78075828 3.0090602\n",
            " 4.11759581 2.98502924 2.80626728 0.81485603 2.2860769  0.20474042\n",
            " 3.07324405 4.15628844 1.93505624 1.46099507 3.505418   3.75211912\n",
            " 4.4183328  1.37650341 3.0305398  3.94153229 4.93366928 1.72549043\n",
            " 3.20763581 1.61525132 1.4219488  2.9409729  0.57737497 4.73606578\n",
            " 1.1812624  4.33165749 0.94374459 3.29709629 1.83979906 3.95229337\n",
            " 0.20817295 0.46416173 4.04895791 2.91370614 3.35756217 4.16953017\n",
            " 2.55193245 0.21496623 0.31323891 1.35694277 4.72235737 2.56565753\n",
            " 1.17376732 1.91825865 2.18130391 2.9287732  2.79337245 3.26709631\n",
            " 0.53305275 2.55241614 3.98100087 4.11455356 1.10674151 4.29108085\n",
            " 2.31580968 0.17764023 4.67118839 0.86595015 3.17636147 1.73860146\n",
            " 2.48949437 3.3189328  3.17297282 4.78045731 4.22917738 2.43234271\n",
            " 2.93571044 3.16644094 0.96156647 4.70061957 4.80372424 2.22783742\n",
            " 3.06817962 4.77626099 1.24946273 0.88074291 2.30667968 4.46541437\n",
            " 1.22057792 2.50306555 1.91578804 0.75416878 1.50279287 4.26909567\n",
            " 1.26979406 3.81290492 3.70827872 1.26278689 2.48220828 4.17205998\n",
            " 2.29166321 2.19744111 3.63936809 2.59973198 3.95415943 4.16756937\n",
            " 1.2598813  3.97163076 0.75722818 2.26901143 2.85289805 2.36284413\n",
            " 1.51807206 3.19391721 3.62267139 2.96700479 4.99602148 2.64473888\n",
            " 1.15704574 2.74830732 2.94370969 3.13090736]\n"
          ]
        }
      ]
    },
    {
      "cell_type": "code",
      "source": [
        "#Histogram\n",
        "#To visualize the data set we can draw a histogram with the data we collected.\n",
        "\n",
        "\n",
        "import numpy\n",
        "import matplotlib.pyplot as plt\n",
        "\n",
        "x = numpy.random.uniform(0.0, 5.0, 250)\n",
        "\n",
        "plt.hist(x, 5)\n",
        "plt.show()"
      ],
      "metadata": {
        "colab": {
          "base_uri": "https://localhost:8080/",
          "height": 430
        },
        "id": "xsXz6UHzHX0N",
        "outputId": "0aa3bb6a-0633-4cba-c256-b61f01642848"
      },
      "execution_count": 12,
      "outputs": [
        {
          "output_type": "display_data",
          "data": {
            "text/plain": [
              "<Figure size 640x480 with 1 Axes>"
            ],
            "image/png": "[encoded data removed]"
          },
          "metadata": {}
        }
      ]
    },
    {
      "cell_type": "code",
      "source": [
        "import numpy\n",
        "import matplotlib.pyplot as plt\n",
        "\n",
        "x = numpy.random.uniform(0.0, 5.0, 100000)\n",
        "\n",
        "plt.hist(x, 100)\n",
        "plt.show()"
      ],
      "metadata": {
        "colab": {
          "base_uri": "https://localhost:8080/",
          "height": 430
        },
        "id": "zjPjIXYbHf5J",
        "outputId": "5574f88a-a79f-400c-9daa-d4eab6389814"
      },
      "execution_count": 13,
      "outputs": [
        {
          "output_type": "display_data",
          "data": {
            "text/plain": [
              "<Figure size 640x480 with 1 Axes>"
            ],
            "image/png": "[encoded data removed]"
          },
          "metadata": {}
        }
      ]
    },
    {
      "cell_type": "markdown",
      "source": [
        "# Normal Data Distribution\n",
        "In the previous chapter we learned how to create a completely random array, of a given size, and between two given values.\n",
        "\n",
        "In this chapter we will learn how to create an array where the values are concentrated around a given value.\n",
        "\n",
        "In probability theory this kind of data distribution is known as the normal data distribution, or the Gaussian data distribution, after the mathematician Carl Friedrich Gauss who came up with the formula of this data distribution.\n",
        "\n"
      ],
      "metadata": {
        "id": "Yp0keK4nHsSi"
      }
    },
    {
      "cell_type": "code",
      "source": [
        "import numpy\n",
        "import matplotlib.pyplot as plt\n",
        "\n",
        "x = numpy.random.normal(5.0, 1.0, 100000)\n",
        "\n",
        "plt.hist(x, 100)\n",
        "plt.show()"
      ],
      "metadata": {
        "colab": {
          "base_uri": "https://localhost:8080/",
          "height": 430
        },
        "id": "ZkoxiBMyHwPb",
        "outputId": "27eedaa3-06a1-4410-af75-36e53548db9f"
      },
      "execution_count": 14,
      "outputs": [
        {
          "output_type": "display_data",
          "data": {
            "text/plain": [
              "<Figure size 640x480 with 1 Axes>"
            ],
            "image/png": "[encoded data removed]"
          },
          "metadata": {}
        }
      ]
    },
    {
      "cell_type": "code",
      "source": [
        "#Scatter Plot\n",
        "#A scatter plot is a diagram where each value in the data set is represented by a dot.\n",
        "\n",
        "import matplotlib.pyplot as plt\n",
        "\n",
        "x = [5,7,8,7,2,17,2,9,4,11,12,9,6]\n",
        "y = [99,86,87,88,111,86,103,87,94,78,77,85,86]\n",
        "\n",
        "plt.scatter(x, y)\n",
        "plt.show()"
      ],
      "metadata": {
        "colab": {
          "base_uri": "https://localhost:8080/",
          "height": 430
        },
        "id": "q2a3F6qXIKFy",
        "outputId": "b5cfa7c6-797e-45e8-dfcc-98c25fb6bf61"
      },
      "execution_count": 16,
      "outputs": [
        {
          "output_type": "display_data",
          "data": {
            "text/plain": [
              "<Figure size 640x480 with 1 Axes>"
            ],
            "image/png": "[encoded data removed]"
          },
          "metadata": {}
        }
      ]
    },
    {
      "cell_type": "code",
      "source": [
        "#Random Data Distributions\n",
        "import numpy\n",
        "import matplotlib.pyplot as plt\n",
        "\n",
        "x = numpy.random.normal(5.0, 1.0, 1000)\n",
        "y = numpy.random.normal(10.0, 2.0, 1000)\n",
        "\n",
        "plt.scatter(x, y)\n",
        "plt.show()"
      ],
      "metadata": {
        "colab": {
          "base_uri": "https://localhost:8080/",
          "height": 435
        },
        "id": "yDq2gvzmIZB7",
        "outputId": "fad81b82-9f2c-4b1a-f645-697028917976"
      },
      "execution_count": 17,
      "outputs": [
        {
          "output_type": "display_data",
          "data": {
            "text/plain": [
              "<Figure size 640x480 with 1 Axes>"
            ],
            "image/png": "[encoded data removed]"
          },
          "metadata": {}
        }
      ]
    }
  ]
}